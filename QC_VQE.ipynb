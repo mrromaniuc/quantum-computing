{
  "cells": [
    {
      "cell_type": "markdown",
      "metadata": {
        "id": "view-in-github",
        "colab_type": "text"
      },
      "source": [
        "<a href=\"https://colab.research.google.com/github/mrromaniuc/quantum-computing/blob/main/QC_VQE.ipynb\" target=\"_parent\"><img src=\"https://colab.research.google.com/assets/colab-badge.svg\" alt=\"Open In Colab\"/></a>"
      ]
    },
    {
      "cell_type": "code",
      "source": [
        "%%capture\n",
        "!pip install qiskit\n",
        "!pip install qiskit-aer\n",
        "!pip install qiskit-visualization\n",
        "!pip install qiskit-ibm-provider\n",
        "!pip install qiskit-ibm-runtime\n",
        "!pip install qiskit-experiments\n",
        "!pip install qiskit-circuit\n",
        "!pip install imgaug==0.2.5\n",
        "!pip install pylatexenc"
      ],
      "metadata": {
        "id": "DFk2UDX60Iv9"
      },
      "id": "DFk2UDX60Iv9",
      "execution_count": 5,
      "outputs": []
    },
    {
      "cell_type": "code",
      "source": [
        "!pip install qiskit-circuit"
      ],
      "metadata": {
        "colab": {
          "base_uri": "https://localhost:8080/"
        },
        "id": "cv83xVuuLct_",
        "outputId": "f430f309-d1e0-4576-9ab8-9574930c3b34"
      },
      "id": "cv83xVuuLct_",
      "execution_count": 7,
      "outputs": [
        {
          "output_type": "stream",
          "name": "stdout",
          "text": [
            "\u001b[31mERROR: Could not find a version that satisfies the requirement qiskit-circuit (from versions: none)\u001b[0m\u001b[31m\n",
            "\u001b[0m\u001b[31mERROR: No matching distribution found for qiskit-circuit\u001b[0m\u001b[31m\n",
            "\u001b[0m"
          ]
        }
      ]
    },
    {
      "cell_type": "code",
      "source": [
        "#Setting configuration to use matplotlib in drawings\n",
        "!mkdir ~/.qiskit\n",
        "!echo \"[default]\" > ~/.qiskit/settings.conf\n",
        "!echo \"circuit_drawer = mpl\" >> ~/.qiskit/settings.conf\n",
        "!more ~/.qiskit/settings.conf\n",
        "\n",
        "\n",
        "#\n",
        "# Loading IBM credentials\n",
        "#\n",
        "API_TOKEN_DIR=\"/content/drive/'My Drive'/'Colab Notebooks'/QC\"\n",
        "API_TOKEN_FILE=\"MY_API_TOKEN.txt\"\n",
        "\n",
        "#Mount the google drive first\n",
        "from google.colab import drive\n",
        "drive.mount('/content/drive')\n",
        "#%cd /content/drive/'My Drive'/'Colab Notebooks'/QC\n",
        "%cd $API_TOKEN_DIR\n",
        "\n",
        "#Read the MY_API_TOKEN from file...\n",
        "from qiskit_ibm_provider import IBMProvider\n",
        "MY_API_TOKEN = \"\"\n",
        "with open(API_TOKEN_FILE) as f:\n",
        "  MY_API_TOKEN=f.readline()\n",
        "IBMProvider.save_account(MY_API_TOKEN, overwrite=True)"
      ],
      "metadata": {
        "colab": {
          "base_uri": "https://localhost:8080/"
        },
        "id": "s8qRcB1E1J-b",
        "outputId": "c879e755-6d5a-418a-c3b0-465359c0cf98"
      },
      "id": "s8qRcB1E1J-b",
      "execution_count": 2,
      "outputs": [
        {
          "output_type": "stream",
          "name": "stdout",
          "text": [
            "[default]\n",
            "circuit_drawer = mpl\n",
            "Mounted at /content/drive\n",
            "/content/drive/My Drive/Colab Notebooks/QC\n"
          ]
        }
      ]
    },
    {
      "cell_type": "markdown",
      "source": [
        "References:\n",
        "* https://learning.quantum-computing.ibm.com/course/variational-algorithm-design/examples-and-applications\n"
      ],
      "metadata": {
        "id": "AdjmgkN12xB8"
      },
      "id": "AdjmgkN12xB8"
    },
    {
      "cell_type": "markdown",
      "source": [
        "## Observable"
      ],
      "metadata": {
        "id": "rqZdHeP7oMBi"
      },
      "id": "rqZdHeP7oMBi"
    },
    {
      "cell_type": "code",
      "source": [
        "from qiskit.quantum_info import SparsePauliOp\n",
        "\n",
        "obs1=SparsePauliOp.from_list([(\"II\", 2), (\"XX\", -2), (\"YY\", 3), (\"ZZ\", -3)])"
      ],
      "metadata": {
        "id": "ce7xCZ-Qd86Y"
      },
      "id": "ce7xCZ-Qd86Y",
      "execution_count": 20,
      "outputs": []
    },
    {
      "cell_type": "code",
      "source": [
        "#Getting the lowest eigenvalue fro obs1\n",
        "from qiskit.circuit.library import TwoLocal\n",
        "from qiskit import QuantumCircuit\n",
        "from qiskit_ibm_runtime import QiskitRuntimeService, Estimator, Session\n",
        "\n",
        "def cost_func_vqe(params, ansatz, hamiltonian, estimator):\n",
        "  cost = estimator.run(ansatz, hamiltonian, parameter_values=params).result().values[0]\n",
        "  return cost"
      ],
      "metadata": {
        "id": "FIoUcPohJtap"
      },
      "id": "FIoUcPohJtap",
      "execution_count": 21,
      "outputs": []
    },
    {
      "cell_type": "code",
      "source": [
        "import numpy as np\n",
        "\n",
        "ref_qc = QuantumCircuit(2)\n",
        "ref_qc.x(0)\n",
        "ref_qc.barrier()\n",
        "\n",
        "var_qc = TwoLocal(\n",
        "    2,\n",
        "    rotation_blocks=[\"rz\", \"ry\"],\n",
        "    entanglement_blocks=\"cx\",\n",
        "    entanglement=\"linear\",\n",
        "    insert_barriers=True,\n",
        "    reps=1\n",
        ")\n",
        "ansatz = ref_qc.compose(var_qc)\n",
        "ansatz.decompose().draw(\"mpl\")"
      ],
      "metadata": {
        "colab": {
          "base_uri": "https://localhost:8080/",
          "height": 191
        },
        "id": "i3B_TFHBMPeP",
        "outputId": "06871013-81f8-4cb5-d2cb-347e270dcf4a"
      },
      "id": "i3B_TFHBMPeP",
      "execution_count": 22,
      "outputs": [
        {
          "output_type": "execute_result",
          "data": {
            "text/plain": [
              "<Figure size 872.572x200.667 with 1 Axes>"
            ],
            "image/png": "[encoded data removed]"
          },
          "metadata": {},
          "execution_count": 22
        }
      ]
    },
    {
      "cell_type": "code",
      "source": [
        "from qiskit_ibm_runtime import QiskitRuntimeService\n",
        "from qiskit_ibm_runtime import Estimator, Sampler, Session\n",
        "\n",
        "service = QiskitRuntimeService(channel='ibm_quantum')\n",
        "backend = service.get_backend(\"ibmq_qasm_simulator\")\n",
        "session = Session(backend=backend)\n",
        "\n",
        "estimator=Estimator(session=session)\n",
        "sampler=Sampler(session=session)"
      ],
      "metadata": {
        "id": "ohgAbeDQPCfL"
      },
      "id": "ohgAbeDQPCfL",
      "execution_count": 23,
      "outputs": []
    },
    {
      "cell_type": "code",
      "source": [
        "#initial parameters - note above that we have 8 parameters in the circuit\n",
        "x0=np.ones(8)"
      ],
      "metadata": {
        "id": "RSaLUkDzPcaa"
      },
      "id": "RSaLUkDzPcaa",
      "execution_count": 24,
      "outputs": []
    },
    {
      "cell_type": "code",
      "source": [
        "from scipy.optimize import minimize\n",
        "import time\n",
        "\n",
        "start_time = time.time()\n",
        "\n",
        "result = minimize(cost_func_vqe, x0, args=(ansatz, obs1, estimator), method=\"COBYLA\")\n",
        "\n",
        "end_time=time.time()\n",
        "exec_time = end_time - start_time"
      ],
      "metadata": {
        "id": "U-_hUsLWPmUf"
      },
      "id": "U-_hUsLWPmUf",
      "execution_count": 25,
      "outputs": []
    },
    {
      "cell_type": "code",
      "source": [
        "exec_time"
      ],
      "metadata": {
        "colab": {
          "base_uri": "https://localhost:8080/"
        },
        "id": "bpHxL6nJR2Vo",
        "outputId": "f12f66e7-fa23-4985-caa2-46462741affb"
      },
      "id": "bpHxL6nJR2Vo",
      "execution_count": 26,
      "outputs": [
        {
          "output_type": "execute_result",
          "data": {
            "text/plain": [
              "438.8202841281891"
            ]
          },
          "metadata": {},
          "execution_count": 26
        }
      ]
    },
    {
      "cell_type": "code",
      "source": [
        "result"
      ],
      "metadata": {
        "colab": {
          "base_uri": "https://localhost:8080/"
        },
        "id": "2eZ86MImP8qo",
        "outputId": "d97f0171-86f2-4649-9355-ff4b80faae06"
      },
      "id": "2eZ86MImP8qo",
      "execution_count": 27,
      "outputs": [
        {
          "output_type": "execute_result",
          "data": {
            "text/plain": [
              " message: Optimization terminated successfully.\n",
              " success: True\n",
              "  status: 1\n",
              "     fun: -5.9985\n",
              "       x: [ 9.644e-01  8.808e-01  1.571e+00 -1.425e-02  2.603e+00\n",
              "            5.257e-01  7.565e-01  7.811e-01]\n",
              "    nfev: 82\n",
              "   maxcv: 0.0"
            ]
          },
          "metadata": {},
          "execution_count": 27
        }
      ]
    },
    {
      "cell_type": "markdown",
      "source": [
        "## Improve speed and accuracy"
      ],
      "metadata": {
        "id": "jXusUkw-VwbN"
      },
      "id": "jXusUkw-VwbN"
    },
    {
      "cell_type": "code",
      "source": [
        "#Let's change the reference circuit and use Hadamard gate instead of the bit-flip (x gate)\n",
        "\n",
        "import numpy as np\n",
        "\n",
        "ref_qc = QuantumCircuit(2)\n",
        "ref_qc.h(0)\n",
        "ref_qc.barrier()\n",
        "\n",
        "var_qc = TwoLocal(\n",
        "    2,\n",
        "    rotation_blocks=[\"rz\", \"ry\"],\n",
        "    entanglement_blocks=\"cx\",\n",
        "    entanglement=\"linear\",\n",
        "    insert_barriers=True,\n",
        "    reps=1\n",
        ")\n",
        "ref_ansatz = ref_qc.compose(var_qc)\n",
        "ref_ansatz.decompose().draw(\"mpl\")\n"
      ],
      "metadata": {
        "colab": {
          "base_uri": "https://localhost:8080/",
          "height": 191
        },
        "id": "EClgc1FwVzTr",
        "outputId": "bd1171d6-15c8-4005-c1f0-205d3480dd0c"
      },
      "id": "EClgc1FwVzTr",
      "execution_count": 29,
      "outputs": [
        {
          "output_type": "execute_result",
          "data": {
            "text/plain": [
              "<Figure size 872.572x200.667 with 1 Axes>"
            ],
            "image/png": "[encoded data removed]"
          },
          "metadata": {},
          "execution_count": 29
        }
      ]
    },
    {
      "cell_type": "code",
      "source": [
        "import time\n",
        "\n",
        "start_time = time.time()\n",
        "\n",
        "ref_result = minimize(cost_func_vqe, x0, args=(ref_ansatz, obs1, estimator), method=\"COBYLA\")\n",
        "\n",
        "end_time = time.time()\n",
        "execution_time = end_time - start_time\n",
        "execution_time"
      ],
      "metadata": {
        "colab": {
          "base_uri": "https://localhost:8080/"
        },
        "id": "6xsNoOI0WXBN",
        "outputId": "ba73fc85-215b-4198-e5b7-6e0ede65e932"
      },
      "id": "6xsNoOI0WXBN",
      "execution_count": 33,
      "outputs": [
        {
          "output_type": "execute_result",
          "data": {
            "text/plain": [
              "484.6939787864685"
            ]
          },
          "metadata": {},
          "execution_count": 33
        }
      ]
    },
    {
      "cell_type": "code",
      "source": [
        "ref_result"
      ],
      "metadata": {
        "colab": {
          "base_uri": "https://localhost:8080/"
        },
        "id": "qGEIgnFeWtx0",
        "outputId": "2d728874-4efd-4481-860f-d99df14d96a3"
      },
      "id": "qGEIgnFeWtx0",
      "execution_count": 32,
      "outputs": [
        {
          "output_type": "execute_result",
          "data": {
            "text/plain": [
              " message: Optimization terminated successfully.\n",
              " success: True\n",
              "  status: 1\n",
              "     fun: -5.952999999999999\n",
              "       x: [ 1.422e+00  7.481e-01  1.019e+00 -3.093e-02  2.395e+00\n",
              "            2.451e+00  9.452e-01  9.567e-01]\n",
              "    nfev: 94\n",
              "   maxcv: 0.0"
            ]
          },
          "metadata": {},
          "execution_count": 32
        }
      ]
    },
    {
      "cell_type": "markdown",
      "source": [
        "## Let's change the initial point (parameters)"
      ],
      "metadata": {
        "id": "a7A8Sq3YclpC"
      },
      "id": "a7A8Sq3YclpC"
    },
    {
      "cell_type": "code",
      "source": [
        "import time\n",
        "\n",
        "start_time = time.time()\n",
        "\n",
        "x0 = [0, 0, 0, 0, 6, 0, 0, 0]\n",
        "\n",
        "x0_1_result = minimize(cost_func_vqe, x0, args=(ansatz, obs1, estimator), method=\"COBYLA\")\n",
        "\n",
        "end_time = time.time()\n",
        "execution_time = end_time - start_time\n",
        "execution_time"
      ],
      "metadata": {
        "id": "PnpA8z6Ico7D",
        "outputId": "90d6f6b4-08f6-42c2-e64c-10d8b1cce6a0",
        "colab": {
          "base_uri": "https://localhost:8080/"
        }
      },
      "id": "PnpA8z6Ico7D",
      "execution_count": 34,
      "outputs": [
        {
          "output_type": "execute_result",
          "data": {
            "text/plain": [
              "357.65173745155334"
            ]
          },
          "metadata": {},
          "execution_count": 34
        }
      ]
    },
    {
      "cell_type": "code",
      "source": [
        "x0_1_result"
      ],
      "metadata": {
        "id": "wwr8RWY6cv5y",
        "outputId": "fed71477-cc82-4f96-da84-7f479cba6680",
        "colab": {
          "base_uri": "https://localhost:8080/"
        }
      },
      "id": "wwr8RWY6cv5y",
      "execution_count": 35,
      "outputs": [
        {
          "output_type": "execute_result",
          "data": {
            "text/plain": [
              " message: Optimization terminated successfully.\n",
              " success: True\n",
              "  status: 1\n",
              "     fun: -5.9965\n",
              "       x: [ 3.029e-02  1.002e+00 -1.070e-02  4.425e-03  6.241e+00\n",
              "           -1.027e-02 -2.155e-02 -3.506e-02]\n",
              "    nfev: 76\n",
              "   maxcv: 0.0"
            ]
          },
          "metadata": {},
          "execution_count": 35
        }
      ]
    },
    {
      "cell_type": "code",
      "source": [
        "import time\n",
        "\n",
        "start_time = time.time()\n",
        "\n",
        "x0 = 6 * np.ones(8)\n",
        "\n",
        "x0_2_result = minimize(cost_func_vqe, x0, args=(ansatz, obs1, estimator), method=\"COBYLA\")\n",
        "\n",
        "end_time = time.time()\n",
        "execution_time = end_time - start_time\n",
        "execution_time"
      ],
      "metadata": {
        "id": "VN9d2fqkcw1D",
        "outputId": "401c67c2-dc38-4090-f044-b1bfe9f1089d",
        "colab": {
          "base_uri": "https://localhost:8080/"
        }
      },
      "id": "VN9d2fqkcw1D",
      "execution_count": 36,
      "outputs": [
        {
          "output_type": "execute_result",
          "data": {
            "text/plain": [
              "377.6936881542206"
            ]
          },
          "metadata": {},
          "execution_count": 36
        }
      ]
    },
    {
      "cell_type": "code",
      "source": [
        "x0_2_result"
      ],
      "metadata": {
        "id": "eG9wKCCgcw8s",
        "outputId": "db9c1ef8-3de5-43b8-d31a-2d44c4f6d8bf",
        "colab": {
          "base_uri": "https://localhost:8080/"
        }
      },
      "id": "eG9wKCCgcw8s",
      "execution_count": 37,
      "outputs": [
        {
          "output_type": "execute_result",
          "data": {
            "text/plain": [
              " message: Optimization terminated successfully.\n",
              " success: True\n",
              "  status: 1\n",
              "     fun: -5.9750000000000005\n",
              "       x: [ 7.024e+00  5.858e+00  6.300e+00  6.261e+00  6.022e+00\n",
              "            5.840e+00  6.079e+00  6.146e+00]\n",
              "    nfev: 75\n",
              "   maxcv: 0.0"
            ]
          },
          "metadata": {},
          "execution_count": 37
        }
      ]
    },
    {
      "cell_type": "code",
      "source": [],
      "metadata": {
        "id": "PvNypCHRcxDc"
      },
      "id": "PvNypCHRcxDc",
      "execution_count": null,
      "outputs": []
    },
    {
      "cell_type": "code",
      "source": [],
      "metadata": {
        "id": "sNoAIkhMcxJE"
      },
      "id": "sNoAIkhMcxJE",
      "execution_count": null,
      "outputs": []
    },
    {
      "cell_type": "code",
      "source": [
        "import qiskit.tools.jupyter\n",
        "%qiskit_version_table"
      ],
      "metadata": {
        "colab": {
          "base_uri": "https://localhost:8080/",
          "height": 361
        },
        "id": "Axld_E8B8GEV",
        "outputId": "2f8c7840-28f1-4327-ffd9-84b187292f93"
      },
      "id": "Axld_E8B8GEV",
      "execution_count": null,
      "outputs": [
        {
          "output_type": "display_data",
          "data": {
            "text/plain": [
              "<IPython.core.display.HTML object>"
            ],
            "text/html": [
              "<h3>Version Information</h3><table><tr><th>Software</th><th>Version</th></tr><tr><td><code>qiskit</code></td><td>0.44.1</td></tr><tr><td><code>qiskit-terra</code></td><td>0.25.1</td></tr><tr><td><code>qiskit_ibm_provider</code></td><td>0.7.0</td></tr><tr><td><code>qiskit_ibm_runtime</code></td><td>0.12.0</td></tr><tr><td><code>qiskit_aer</code></td><td>0.12.2</td></tr><tr><th colspan='2'>System information</th></tr><tr><td>Python version</td><td>3.10.12</td></tr><tr><td>Python compiler</td><td>GCC 11.4.0</td></tr><tr><td>Python build</td><td>main, Jun 11 2023 05:26:28</td></tr><tr><td>OS</td><td>Linux</td></tr><tr><td>CPUs</td><td>1</td></tr><tr><td>Memory (Gb)</td><td>12.678386688232422</td></tr><tr><td colspan='2'>Wed Sep 06 23:31:15 2023 UTC</td></tr></table>"
            ]
          },
          "metadata": {}
        }
      ]
    }
  ],
  "metadata": {
    "kernelspec": {
      "display_name": "Python 3 (ipykernel)",
      "language": "python",
      "name": "python3"
    },
    "language_info": {
      "codemirror_mode": {
        "name": "ipython",
        "version": 3
      },
      "file_extension": ".py",
      "mimetype": "text/x-python",
      "name": "python",
      "nbconvert_exporter": "python",
      "pygments_lexer": "ipython3",
      "version": "3.9.17"
    },
    "colab": {
      "provenance": [],
      "include_colab_link": true
    }
  },
  "nbformat": 4,
  "nbformat_minor": 5
}